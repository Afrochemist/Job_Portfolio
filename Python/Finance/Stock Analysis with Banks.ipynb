{
 "cells": [
  {
   "cell_type": "code",
   "execution_count": 3,
   "metadata": {},
   "outputs": [],
   "source": [
    "#Common Libraries\n",
    "import numpy as np\n",
    "import pandas as pd\n",
    "import matplotlib.pyplot as plt\n",
    "%matplotlib inline"
   ]
  },
  {
   "cell_type": "code",
   "execution_count": 5,
   "metadata": {},
   "outputs": [],
   "source": [
    "#Libraries for uploading stock data\n",
    "import pandas_datareader\n",
    "import datetime\n",
    "import pandas_datareader.data as web"
   ]
  },
  {
   "cell_type": "code",
   "execution_count": 6,
   "metadata": {},
   "outputs": [],
   "source": [
    "#The setup\n",
    "start = datetime.datetime(2017, 1, 1)\n",
    "end = datetime.datetime(2018, 1, 1)"
   ]
  },
  {
   "cell_type": "code",
   "execution_count": 9,
   "metadata": {},
   "outputs": [],
   "source": [
    "#Uploading Bank of America, Wells Fargo, and JP Morgan stock data\n",
    "#Getting the data from Yahoo Finance\n",
    "boa = web.DataReader(\"BAC\", \"yahoo\", start, end)\n",
    "wfc = web.DataReader(\"WFC\", \"yahoo\", start, end)\n",
    "jpm = web.DataReader(\"JPM\", \"yahoo\", start, end)"
   ]
  },
  {
   "cell_type": "code",
   "execution_count": 10,
   "metadata": {},
   "outputs": [
    {
     "data": {
      "text/html": [
       "<div>\n",
       "<style scoped>\n",
       "    .dataframe tbody tr th:only-of-type {\n",
       "        vertical-align: middle;\n",
       "    }\n",
       "\n",
       "    .dataframe tbody tr th {\n",
       "        vertical-align: top;\n",
       "    }\n",
       "\n",
       "    .dataframe thead th {\n",
       "        text-align: right;\n",
       "    }\n",
       "</style>\n",
       "<table border=\"1\" class=\"dataframe\">\n",
       "  <thead>\n",
       "    <tr style=\"text-align: right;\">\n",
       "      <th></th>\n",
       "      <th>High</th>\n",
       "      <th>Low</th>\n",
       "      <th>Open</th>\n",
       "      <th>Close</th>\n",
       "      <th>Volume</th>\n",
       "      <th>Adj Close</th>\n",
       "    </tr>\n",
       "    <tr>\n",
       "      <th>Date</th>\n",
       "      <th></th>\n",
       "      <th></th>\n",
       "      <th></th>\n",
       "      <th></th>\n",
       "      <th></th>\n",
       "      <th></th>\n",
       "    </tr>\n",
       "  </thead>\n",
       "  <tbody>\n",
       "    <tr>\n",
       "      <th>2017-01-03</th>\n",
       "      <td>22.680000</td>\n",
       "      <td>22.200001</td>\n",
       "      <td>22.600000</td>\n",
       "      <td>22.530001</td>\n",
       "      <td>99298100.0</td>\n",
       "      <td>21.900858</td>\n",
       "    </tr>\n",
       "    <tr>\n",
       "      <th>2017-01-04</th>\n",
       "      <td>22.959999</td>\n",
       "      <td>22.600000</td>\n",
       "      <td>22.719999</td>\n",
       "      <td>22.950001</td>\n",
       "      <td>76875100.0</td>\n",
       "      <td>22.309128</td>\n",
       "    </tr>\n",
       "    <tr>\n",
       "      <th>2017-01-05</th>\n",
       "      <td>22.930000</td>\n",
       "      <td>22.350000</td>\n",
       "      <td>22.820000</td>\n",
       "      <td>22.680000</td>\n",
       "      <td>86826400.0</td>\n",
       "      <td>22.046667</td>\n",
       "    </tr>\n",
       "    <tr>\n",
       "      <th>2017-01-06</th>\n",
       "      <td>22.850000</td>\n",
       "      <td>22.559999</td>\n",
       "      <td>22.780001</td>\n",
       "      <td>22.680000</td>\n",
       "      <td>66281500.0</td>\n",
       "      <td>22.046667</td>\n",
       "    </tr>\n",
       "    <tr>\n",
       "      <th>2017-01-09</th>\n",
       "      <td>22.709999</td>\n",
       "      <td>22.400000</td>\n",
       "      <td>22.510000</td>\n",
       "      <td>22.549999</td>\n",
       "      <td>75744700.0</td>\n",
       "      <td>21.920296</td>\n",
       "    </tr>\n",
       "  </tbody>\n",
       "</table>\n",
       "</div>"
      ],
      "text/plain": [
       "                 High        Low       Open      Close      Volume  Adj Close\n",
       "Date                                                                         \n",
       "2017-01-03  22.680000  22.200001  22.600000  22.530001  99298100.0  21.900858\n",
       "2017-01-04  22.959999  22.600000  22.719999  22.950001  76875100.0  22.309128\n",
       "2017-01-05  22.930000  22.350000  22.820000  22.680000  86826400.0  22.046667\n",
       "2017-01-06  22.850000  22.559999  22.780001  22.680000  66281500.0  22.046667\n",
       "2017-01-09  22.709999  22.400000  22.510000  22.549999  75744700.0  21.920296"
      ]
     },
     "execution_count": 10,
     "metadata": {},
     "output_type": "execute_result"
    }
   ],
   "source": [
    "#Getting a peak at Bank of America\n",
    "boa.head()"
   ]
  },
  {
   "cell_type": "code",
   "execution_count": 11,
   "metadata": {},
   "outputs": [
    {
     "data": {
      "text/html": [
       "<div>\n",
       "<style scoped>\n",
       "    .dataframe tbody tr th:only-of-type {\n",
       "        vertical-align: middle;\n",
       "    }\n",
       "\n",
       "    .dataframe tbody tr th {\n",
       "        vertical-align: top;\n",
       "    }\n",
       "\n",
       "    .dataframe thead th {\n",
       "        text-align: right;\n",
       "    }\n",
       "</style>\n",
       "<table border=\"1\" class=\"dataframe\">\n",
       "  <thead>\n",
       "    <tr style=\"text-align: right;\">\n",
       "      <th></th>\n",
       "      <th>High</th>\n",
       "      <th>Low</th>\n",
       "      <th>Open</th>\n",
       "      <th>Close</th>\n",
       "      <th>Volume</th>\n",
       "      <th>Adj Close</th>\n",
       "    </tr>\n",
       "    <tr>\n",
       "      <th>Date</th>\n",
       "      <th></th>\n",
       "      <th></th>\n",
       "      <th></th>\n",
       "      <th></th>\n",
       "      <th></th>\n",
       "      <th></th>\n",
       "    </tr>\n",
       "  </thead>\n",
       "  <tbody>\n",
       "    <tr>\n",
       "      <th>2017-01-03</th>\n",
       "      <td>56.349998</td>\n",
       "      <td>55.459999</td>\n",
       "      <td>55.669998</td>\n",
       "      <td>56.000000</td>\n",
       "      <td>22063800.0</td>\n",
       "      <td>53.338181</td>\n",
       "    </tr>\n",
       "    <tr>\n",
       "      <th>2017-01-04</th>\n",
       "      <td>56.310001</td>\n",
       "      <td>55.610001</td>\n",
       "      <td>56.160000</td>\n",
       "      <td>56.049999</td>\n",
       "      <td>15036100.0</td>\n",
       "      <td>53.385807</td>\n",
       "    </tr>\n",
       "    <tr>\n",
       "      <th>2017-01-05</th>\n",
       "      <td>55.820000</td>\n",
       "      <td>54.480000</td>\n",
       "      <td>55.490002</td>\n",
       "      <td>55.180000</td>\n",
       "      <td>18831600.0</td>\n",
       "      <td>52.557159</td>\n",
       "    </tr>\n",
       "    <tr>\n",
       "      <th>2017-01-06</th>\n",
       "      <td>55.570000</td>\n",
       "      <td>54.700001</td>\n",
       "      <td>55.259998</td>\n",
       "      <td>55.040001</td>\n",
       "      <td>18715900.0</td>\n",
       "      <td>52.423817</td>\n",
       "    </tr>\n",
       "    <tr>\n",
       "      <th>2017-01-09</th>\n",
       "      <td>54.810001</td>\n",
       "      <td>54.180000</td>\n",
       "      <td>54.680000</td>\n",
       "      <td>54.240002</td>\n",
       "      <td>21665600.0</td>\n",
       "      <td>51.661842</td>\n",
       "    </tr>\n",
       "  </tbody>\n",
       "</table>\n",
       "</div>"
      ],
      "text/plain": [
       "                 High        Low       Open      Close      Volume  Adj Close\n",
       "Date                                                                         \n",
       "2017-01-03  56.349998  55.459999  55.669998  56.000000  22063800.0  53.338181\n",
       "2017-01-04  56.310001  55.610001  56.160000  56.049999  15036100.0  53.385807\n",
       "2017-01-05  55.820000  54.480000  55.490002  55.180000  18831600.0  52.557159\n",
       "2017-01-06  55.570000  54.700001  55.259998  55.040001  18715900.0  52.423817\n",
       "2017-01-09  54.810001  54.180000  54.680000  54.240002  21665600.0  51.661842"
      ]
     },
     "execution_count": 11,
     "metadata": {},
     "output_type": "execute_result"
    }
   ],
   "source": [
    "#Getting a peak at Wells Fargo\n",
    "wfc.head()"
   ]
  },
  {
   "cell_type": "code",
   "execution_count": 12,
   "metadata": {},
   "outputs": [
    {
     "data": {
      "text/html": [
       "<div>\n",
       "<style scoped>\n",
       "    .dataframe tbody tr th:only-of-type {\n",
       "        vertical-align: middle;\n",
       "    }\n",
       "\n",
       "    .dataframe tbody tr th {\n",
       "        vertical-align: top;\n",
       "    }\n",
       "\n",
       "    .dataframe thead th {\n",
       "        text-align: right;\n",
       "    }\n",
       "</style>\n",
       "<table border=\"1\" class=\"dataframe\">\n",
       "  <thead>\n",
       "    <tr style=\"text-align: right;\">\n",
       "      <th></th>\n",
       "      <th>High</th>\n",
       "      <th>Low</th>\n",
       "      <th>Open</th>\n",
       "      <th>Close</th>\n",
       "      <th>Volume</th>\n",
       "      <th>Adj Close</th>\n",
       "    </tr>\n",
       "    <tr>\n",
       "      <th>Date</th>\n",
       "      <th></th>\n",
       "      <th></th>\n",
       "      <th></th>\n",
       "      <th></th>\n",
       "      <th></th>\n",
       "      <th></th>\n",
       "    </tr>\n",
       "  </thead>\n",
       "  <tbody>\n",
       "    <tr>\n",
       "      <th>2017-01-03</th>\n",
       "      <td>87.760002</td>\n",
       "      <td>85.980003</td>\n",
       "      <td>87.339996</td>\n",
       "      <td>87.230003</td>\n",
       "      <td>20550700.0</td>\n",
       "      <td>82.896439</td>\n",
       "    </tr>\n",
       "    <tr>\n",
       "      <th>2017-01-04</th>\n",
       "      <td>87.180000</td>\n",
       "      <td>86.400002</td>\n",
       "      <td>86.959999</td>\n",
       "      <td>86.910004</td>\n",
       "      <td>15266600.0</td>\n",
       "      <td>83.049332</td>\n",
       "    </tr>\n",
       "    <tr>\n",
       "      <th>2017-01-05</th>\n",
       "      <td>87.110001</td>\n",
       "      <td>85.260002</td>\n",
       "      <td>86.809998</td>\n",
       "      <td>86.110001</td>\n",
       "      <td>14300800.0</td>\n",
       "      <td>82.284859</td>\n",
       "    </tr>\n",
       "    <tr>\n",
       "      <th>2017-01-06</th>\n",
       "      <td>86.620003</td>\n",
       "      <td>85.940002</td>\n",
       "      <td>86.389999</td>\n",
       "      <td>86.120003</td>\n",
       "      <td>12893300.0</td>\n",
       "      <td>82.294426</td>\n",
       "    </tr>\n",
       "    <tr>\n",
       "      <th>2017-01-09</th>\n",
       "      <td>86.769997</td>\n",
       "      <td>85.519997</td>\n",
       "      <td>85.730003</td>\n",
       "      <td>86.180000</td>\n",
       "      <td>12735600.0</td>\n",
       "      <td>82.351746</td>\n",
       "    </tr>\n",
       "  </tbody>\n",
       "</table>\n",
       "</div>"
      ],
      "text/plain": [
       "                 High        Low       Open      Close      Volume  Adj Close\n",
       "Date                                                                         \n",
       "2017-01-03  87.760002  85.980003  87.339996  87.230003  20550700.0  82.896439\n",
       "2017-01-04  87.180000  86.400002  86.959999  86.910004  15266600.0  83.049332\n",
       "2017-01-05  87.110001  85.260002  86.809998  86.110001  14300800.0  82.284859\n",
       "2017-01-06  86.620003  85.940002  86.389999  86.120003  12893300.0  82.294426\n",
       "2017-01-09  86.769997  85.519997  85.730003  86.180000  12735600.0  82.351746"
      ]
     },
     "execution_count": 12,
     "metadata": {},
     "output_type": "execute_result"
    }
   ],
   "source": [
    "#Getting a peak at JPM\n",
    "jpm.head()"
   ]
  },
  {
   "cell_type": "code",
   "execution_count": 14,
   "metadata": {},
   "outputs": [
    {
     "data": {
      "text/plain": [
       "<matplotlib.legend.Legend at 0x112d5e390>"
      ]
     },
     "execution_count": 14,
     "metadata": {},
     "output_type": "execute_result"
    },
    {
     "data": {
      "image/png": "[encoded data removed]",
      "text/plain": [
       "<Figure size 1152x576 with 1 Axes>"
      ]
     },
     "metadata": {},
     "output_type": "display_data"
    }
   ],
   "source": [
    "#Now visualising the opening prices of each stock in one chart\n",
    "boa['Open'].plot(label='Bank of America', figsize=(16,8), title='Open Price')\n",
    "wfc['Open'].plot(label ='Wells Fargo')\n",
    "jpm['Open'].plot(label ='JP Morgan')\n",
    "plt.legend()"
   ]
  },
  {
   "cell_type": "code",
   "execution_count": null,
   "metadata": {},
   "outputs": [],
   "source": [
    "#Looking at the trading volume of each stock in one chart\n",
    "boa['Volume'].plot(label='Bank of America',figsize=(16,8), title ='Volume Traded')\n",
    "wfc['Volume'].plot(label=\"Wells Fargo\")\n",
    "jpm['Volume'].plot(label='JP Morgan')\n",
    "plt.legend()"
   ]
  }
 ],
 "metadata": {
  "kernelspec": {
   "display_name": "Python 3",
   "language": "python",
   "name": "python3"
  },
  "language_info": {
   "codemirror_mode": {
    "name": "ipython",
    "version": 3
   },
   "file_extension": ".py",
   "mimetype": "text/x-python",
   "name": "python",
   "nbconvert_exporter": "python",
   "pygments_lexer": "ipython3",
   "version": "3.7.0"
  }
 },
 "nbformat": 4,
 "nbformat_minor": 2
}
